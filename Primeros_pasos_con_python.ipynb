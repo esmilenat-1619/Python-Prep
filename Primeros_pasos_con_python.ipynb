{
  "nbformat": 4,
  "nbformat_minor": 0,
  "metadata": {
    "colab": {
      "provenance": [],
      "include_colab_link": true
    },
    "kernelspec": {
      "name": "python3",
      "display_name": "Python 3"
    },
    "language_info": {
      "name": "python"
    }
  },
  "cells": [
    {
      "cell_type": "markdown",
      "metadata": {
        "id": "view-in-github",
        "colab_type": "text"
      },
      "source": [
        "<a href=\"https://colab.research.google.com/github/esmilenat-1619/Python-Prep/blob/main/Primeros_pasos_con_python.ipynb\" target=\"_parent\"><img src=\"https://colab.research.google.com/assets/colab-badge.svg\" alt=\"Open In Colab\"/></a>"
      ]
    },
    {
      "cell_type": "markdown",
      "source": [
        "# Primeros pasos con python\n",
        "\n",
        "---\n",
        "\n",
        "\n",
        "\n",
        "En el presente notebook se encuentran temas iniciales para el uso de python en ciencia de datos, donde el objetivo inicial es adquirir conocimiento basicos en\n",
        "programación para entender completamente el curso"
      ],
      "metadata": {
        "id": "ZA-kGadezIP4"
      }
    },
    {
      "cell_type": "code",
      "source": [
        "## Imprimir en python\n",
        "print(\"Hello, World!\")"
      ],
      "metadata": {
        "colab": {
          "base_uri": "https://localhost:8080/"
        },
        "id": "HVwlOy3c-iHd",
        "outputId": "e182d376-e8dc-4c03-dd5f-98e58423db0c"
      },
      "execution_count": null,
      "outputs": [
        {
          "output_type": "stream",
          "name": "stdout",
          "text": [
            "Hello, World!\n"
          ]
        }
      ]
    },
    {
      "cell_type": "code",
      "source": [
        "\"Hello, World!\""
      ],
      "metadata": {
        "id": "_GvnWdRAaOIN",
        "colab": {
          "base_uri": "https://localhost:8080/",
          "height": 35
        },
        "outputId": "bcc98b90-f6c3-41fd-c797-a20b6a09fc92"
      },
      "execution_count": null,
      "outputs": [
        {
          "output_type": "execute_result",
          "data": {
            "text/plain": [
              "'Hello, World!'"
            ],
            "application/vnd.google.colaboratory.intrinsic+json": {
              "type": "string"
            }
          },
          "metadata": {},
          "execution_count": 2
        }
      ]
    },
    {
      "cell_type": "markdown",
      "source": [
        "## Tipos de Datos en python\n",
        "\n",
        "Python cuenta con varios tipos de datos, como lo son: enteros, flotantes, strings y booleanos. Además, se tienen las listas, que son un tipo predefinido en el lenguaje, así los diccionarios, tuplas y sets.\n"
      ],
      "metadata": {
        "id": "G-9pQ6pH0P2m"
      }
    },
    {
      "cell_type": "markdown",
      "source": [
        "### Números\n",
        "\n",
        "Python se puede emplear de forma interactiva como una calculadora, lo que permite que el análisis de datos pueda ser realizado de forma dinamica"
      ],
      "metadata": {
        "id": "_3Hq8HnR0xXH"
      }
    },
    {
      "cell_type": "code",
      "execution_count": null,
      "metadata": {
        "id": "h65QssG3wpyQ",
        "colab": {
          "base_uri": "https://localhost:8080/"
        },
        "outputId": "007e98ca-a428-41d4-ead9-9393ab908835"
      },
      "outputs": [
        {
          "output_type": "execute_result",
          "data": {
            "text/plain": [
              "16"
            ]
          },
          "metadata": {},
          "execution_count": 3
        }
      ],
      "source": [
        "# Suma\n",
        "6 + 10"
      ]
    },
    {
      "cell_type": "code",
      "source": [
        "# Resta\n",
        "6 - 9"
      ],
      "metadata": {
        "id": "AZV1vAMi1PcU",
        "colab": {
          "base_uri": "https://localhost:8080/"
        },
        "outputId": "9387d51f-4db9-4062-ac74-8f89762a7b6f"
      },
      "execution_count": null,
      "outputs": [
        {
          "output_type": "execute_result",
          "data": {
            "text/plain": [
              "-3"
            ]
          },
          "metadata": {},
          "execution_count": 4
        }
      ]
    },
    {
      "cell_type": "code",
      "source": [
        "# Multiplicación\n",
        "4 * 2"
      ],
      "metadata": {
        "colab": {
          "base_uri": "https://localhost:8080/"
        },
        "id": "Q9CY8hLX1YaI",
        "outputId": "4e10a001-e32e-4f93-ae41-c21e811dbe88"
      },
      "execution_count": null,
      "outputs": [
        {
          "output_type": "execute_result",
          "data": {
            "text/plain": [
              "8"
            ]
          },
          "metadata": {},
          "execution_count": 5
        }
      ]
    },
    {
      "cell_type": "code",
      "source": [
        "# División\n",
        "\n",
        "8 / 3"
      ],
      "metadata": {
        "id": "VZleRw591xj9",
        "colab": {
          "base_uri": "https://localhost:8080/"
        },
        "outputId": "bd09f24b-f498-4b87-e9b1-633d6612e6a1"
      },
      "execution_count": null,
      "outputs": [
        {
          "output_type": "execute_result",
          "data": {
            "text/plain": [
              "2.6666666666666665"
            ]
          },
          "metadata": {},
          "execution_count": 6
        }
      ]
    },
    {
      "cell_type": "code",
      "source": [
        "# Operación modulo\n",
        "\n",
        "8 % 2"
      ],
      "metadata": {
        "id": "I6Yj_f9r14oG",
        "colab": {
          "base_uri": "https://localhost:8080/"
        },
        "outputId": "88325e00-48ee-4fb7-ff0f-1aca5254604f"
      },
      "execution_count": null,
      "outputs": [
        {
          "output_type": "execute_result",
          "data": {
            "text/plain": [
              "0"
            ]
          },
          "metadata": {},
          "execution_count": 9
        }
      ]
    },
    {
      "cell_type": "code",
      "source": [
        "\n",
        "8 % 3"
      ],
      "metadata": {
        "id": "ZH7o1Qg5bF80"
      },
      "execution_count": null,
      "outputs": []
    },
    {
      "cell_type": "markdown",
      "source": [
        "Con la función type se puede conocer el tipo de datos"
      ],
      "metadata": {
        "id": "Qifzch372fkp"
      }
    },
    {
      "cell_type": "code",
      "source": [
        "# Tipo de dato númerico\n",
        "type(9)"
      ],
      "metadata": {
        "id": "zKlZfvYH2w2G",
        "colab": {
          "base_uri": "https://localhost:8080/"
        },
        "outputId": "38cceb78-820c-4395-f459-fc1f6b52e1b8"
      },
      "execution_count": null,
      "outputs": [
        {
          "output_type": "execute_result",
          "data": {
            "text/plain": [
              "int"
            ]
          },
          "metadata": {},
          "execution_count": 14
        }
      ]
    },
    {
      "cell_type": "code",
      "source": [
        "# Tipo de dato flotante\n",
        "type(3.8)"
      ],
      "metadata": {
        "id": "b4a2H-ok21sQ",
        "colab": {
          "base_uri": "https://localhost:8080/"
        },
        "outputId": "555983de-6753-4658-9984-2324075986cb"
      },
      "execution_count": null,
      "outputs": [
        {
          "output_type": "execute_result",
          "data": {
            "text/plain": [
              "float"
            ]
          },
          "metadata": {},
          "execution_count": 11
        }
      ]
    },
    {
      "cell_type": "markdown",
      "source": [
        "## String\n",
        "\n",
        "Son cadenas de texto"
      ],
      "metadata": {
        "id": "rNH4w26z3bwZ"
      }
    },
    {
      "cell_type": "code",
      "source": [
        "'Comillas simples'"
      ],
      "metadata": {
        "id": "JobKmOc-3iug",
        "colab": {
          "base_uri": "https://localhost:8080/",
          "height": 35
        },
        "outputId": "254b90aa-d96e-4100-b18e-11477a05530f"
      },
      "execution_count": null,
      "outputs": [
        {
          "output_type": "execute_result",
          "data": {
            "text/plain": [
              "'Comillas simples'"
            ],
            "application/vnd.google.colaboratory.intrinsic+json": {
              "type": "string"
            }
          },
          "metadata": {},
          "execution_count": 15
        }
      ]
    },
    {
      "cell_type": "code",
      "source": [
        "\"Comillas dobles\""
      ],
      "metadata": {
        "id": "yybFfoLN3pLB",
        "colab": {
          "base_uri": "https://localhost:8080/",
          "height": 35
        },
        "outputId": "8438025f-9dc2-4e65-e02c-56242fdc5cef"
      },
      "execution_count": null,
      "outputs": [
        {
          "output_type": "execute_result",
          "data": {
            "text/plain": [
              "'Comillas dobles'"
            ],
            "application/vnd.google.colaboratory.intrinsic+json": {
              "type": "string"
            }
          },
          "metadata": {},
          "execution_count": 16
        }
      ]
    },
    {
      "cell_type": "code",
      "source": [
        "\"Subcampo de la Inteligencia Artificial (IA) que se centra en desarrollar algoritmos y modelos que permitan a las computadoras aprender de la experiencia a partir de datos; para hacer predicciones sin ser programadas específicamente para ello.\""
      ],
      "metadata": {
        "colab": {
          "base_uri": "https://localhost:8080/",
          "height": 52
        },
        "id": "U4GmThv94L0d",
        "outputId": "c0c642bb-6796-470c-dc18-c715a29707ad"
      },
      "execution_count": null,
      "outputs": [
        {
          "output_type": "execute_result",
          "data": {
            "text/plain": [
              "'Subcampo de la Inteligencia Artificial (IA) que se centra en desarrollar algoritmos y modelos que permitan a las computadoras aprender de la experiencia a partir de datos; para hacer predicciones sin ser programadas específicamente para ello.'"
            ],
            "application/vnd.google.colaboratory.intrinsic+json": {
              "type": "string"
            }
          },
          "metadata": {},
          "execution_count": 17
        }
      ]
    },
    {
      "cell_type": "code",
      "source": [
        "\"\"\"\n",
        "Subcampo de la Inteligencia Artificial (IA) que se centra en desarrollar algoritmos y modelos que permitan a las\n",
        "computadoras aprender de la experiencia a partir de datos; para hacer predicciones sin ser programadas específicamente para ello.\n",
        "\"\"\""
      ],
      "metadata": {
        "id": "LZeMF26v4qEy",
        "colab": {
          "base_uri": "https://localhost:8080/",
          "height": 52
        },
        "outputId": "b7d55468-2fb5-41f7-8036-59ea762c4fa3"
      },
      "execution_count": null,
      "outputs": [
        {
          "output_type": "execute_result",
          "data": {
            "text/plain": [
              "'\\nSubcampo de la Inteligencia Artificial (IA) que se centra en desarrollar algoritmos y modelos que permitan a las\\ncomputadoras aprender de la experiencia a partir de datos; para hacer predicciones sin ser programadas específicamente para ello.\\n'"
            ],
            "application/vnd.google.colaboratory.intrinsic+json": {
              "type": "string"
            }
          },
          "metadata": {},
          "execution_count": 19
        }
      ]
    },
    {
      "cell_type": "code",
      "source": [
        "# Comentario"
      ],
      "metadata": {
        "id": "waRVEde9vOgW"
      },
      "execution_count": null,
      "outputs": []
    },
    {
      "cell_type": "code",
      "source": [
        "# Información variable inteligencia artificial\n",
        "c = \"Inteligencia Atificial\"\n",
        "c"
      ],
      "metadata": {
        "id": "4P09EjSs42HV",
        "colab": {
          "base_uri": "https://localhost:8080/",
          "height": 35
        },
        "outputId": "abc50813-9f2e-4210-bf57-1843be6d515e"
      },
      "execution_count": null,
      "outputs": [
        {
          "output_type": "execute_result",
          "data": {
            "text/plain": [
              "'Inteligencia Atificial'"
            ],
            "application/vnd.google.colaboratory.intrinsic+json": {
              "type": "string"
            }
          },
          "metadata": {},
          "execution_count": 23
        }
      ]
    },
    {
      "cell_type": "code",
      "source": [
        "# Tipo de dato\n",
        "type(c)"
      ],
      "metadata": {
        "id": "u-vbX7pH5DO9",
        "colab": {
          "base_uri": "https://localhost:8080/"
        },
        "outputId": "4aaedbe0-25c8-4f53-9e2e-fb2ca8ce7ad8"
      },
      "execution_count": null,
      "outputs": [
        {
          "output_type": "execute_result",
          "data": {
            "text/plain": [
              "str"
            ]
          },
          "metadata": {},
          "execution_count": 25
        }
      ]
    },
    {
      "cell_type": "code",
      "source": [
        "# Repetir varias veces un string\n",
        "\n",
        "c*4"
      ],
      "metadata": {
        "id": "IA5InEWh5Jnc",
        "colab": {
          "base_uri": "https://localhost:8080/",
          "height": 35
        },
        "outputId": "ba90549b-a952-4e19-efd8-1b39e8013a0e"
      },
      "execution_count": null,
      "outputs": [
        {
          "output_type": "execute_result",
          "data": {
            "text/plain": [
              "'Inteligencia AtificialInteligencia AtificialInteligencia AtificialInteligencia Atificial'"
            ],
            "application/vnd.google.colaboratory.intrinsic+json": {
              "type": "string"
            }
          },
          "metadata": {},
          "execution_count": 26
        }
      ]
    },
    {
      "cell_type": "code",
      "source": [
        "\"Inteligencia Atificial\" * 4"
      ],
      "metadata": {
        "id": "4quTbYw_5UIn",
        "colab": {
          "base_uri": "https://localhost:8080/",
          "height": 35
        },
        "outputId": "a14b6f44-ee9d-492b-c9ac-a3b38e06a274"
      },
      "execution_count": null,
      "outputs": [
        {
          "output_type": "execute_result",
          "data": {
            "text/plain": [
              "'Inteligencia AtificialInteligencia AtificialInteligencia AtificialInteligencia Atificial'"
            ],
            "application/vnd.google.colaboratory.intrinsic+json": {
              "type": "string"
            }
          },
          "metadata": {},
          "execution_count": 27
        }
      ]
    },
    {
      "cell_type": "code",
      "source": [
        "# Concatenar cadena\n",
        "ml = \"Machine \" + \"Learning \" + \"& \" + \"Deep \" + 'Learning'\n",
        "ml"
      ],
      "metadata": {
        "id": "RHj2o5JF5c-s",
        "colab": {
          "base_uri": "https://localhost:8080/",
          "height": 35
        },
        "outputId": "7daa754c-102a-4390-d21e-1745f2748656"
      },
      "execution_count": null,
      "outputs": [
        {
          "output_type": "execute_result",
          "data": {
            "text/plain": [
              "'Machine Learning & Deep Learning'"
            ],
            "application/vnd.google.colaboratory.intrinsic+json": {
              "type": "string"
            }
          },
          "metadata": {},
          "execution_count": 29
        }
      ]
    },
    {
      "cell_type": "code",
      "source": [
        "m = \"Machine \"\n",
        "l = \"Learning \"\n",
        "i = \"& \"\n",
        "\n",
        "ml2 = m + l + i\n",
        "ml2"
      ],
      "metadata": {
        "id": "wP867Qs5yBHw",
        "colab": {
          "base_uri": "https://localhost:8080/",
          "height": 35
        },
        "outputId": "e4f8a1a7-8990-4d8b-d56c-b0f3fd38d99b"
      },
      "execution_count": null,
      "outputs": [
        {
          "output_type": "execute_result",
          "data": {
            "text/plain": [
              "'Machine Learning & '"
            ],
            "application/vnd.google.colaboratory.intrinsic+json": {
              "type": "string"
            }
          },
          "metadata": {},
          "execution_count": 33
        }
      ]
    },
    {
      "cell_type": "code",
      "source": [
        "type(m)"
      ],
      "metadata": {
        "colab": {
          "base_uri": "https://localhost:8080/"
        },
        "id": "qPIfm-iew_0C",
        "outputId": "9cb8f5d0-986b-43d2-ca43-ff6e5b5db280"
      },
      "execution_count": null,
      "outputs": [
        {
          "output_type": "execute_result",
          "data": {
            "text/plain": [
              "str"
            ]
          },
          "metadata": {},
          "execution_count": 31
        }
      ]
    },
    {
      "cell_type": "code",
      "source": [
        "False"
      ],
      "metadata": {
        "id": "LafeVZwUxWkY",
        "colab": {
          "base_uri": "https://localhost:8080/"
        },
        "outputId": "493c3f53-21eb-477c-b26c-13fbaff7cba6"
      },
      "execution_count": null,
      "outputs": [
        {
          "output_type": "execute_result",
          "data": {
            "text/plain": [
              "False"
            ]
          },
          "metadata": {},
          "execution_count": 34
        }
      ]
    },
    {
      "cell_type": "code",
      "source": [
        "True"
      ],
      "metadata": {
        "id": "nLIQnRJUxZZi",
        "colab": {
          "base_uri": "https://localhost:8080/"
        },
        "outputId": "2f072154-cafb-4d6f-e734-21aa2736e697"
      },
      "execution_count": null,
      "outputs": [
        {
          "output_type": "execute_result",
          "data": {
            "text/plain": [
              "True"
            ]
          },
          "metadata": {},
          "execution_count": 35
        }
      ]
    },
    {
      "cell_type": "code",
      "source": [
        "type(False)"
      ],
      "metadata": {
        "id": "sL-SJSjSd65t",
        "outputId": "048a78f8-f961-479c-beb8-78eb3a7c8c02",
        "colab": {
          "base_uri": "https://localhost:8080/"
        }
      },
      "execution_count": null,
      "outputs": [
        {
          "output_type": "execute_result",
          "data": {
            "text/plain": [
              "bool"
            ]
          },
          "metadata": {},
          "execution_count": 36
        }
      ]
    },
    {
      "cell_type": "code",
      "source": [
        "verdadero = True\n",
        "type(verdadero)"
      ],
      "metadata": {
        "id": "Ofsiycd3xcQU",
        "colab": {
          "base_uri": "https://localhost:8080/"
        },
        "outputId": "f4e521dd-33e9-42c0-cbf0-53c74530c501"
      },
      "execution_count": null,
      "outputs": [
        {
          "output_type": "execute_result",
          "data": {
            "text/plain": [
              "bool"
            ]
          },
          "metadata": {},
          "execution_count": 37
        }
      ]
    },
    {
      "cell_type": "markdown",
      "source": [
        "# Asignación de Variable\n",
        "\n",
        "Las variables en python no necesitan ser declaradas, simplemente se definen al ser utilizadas por primera vez o al ser actualizada. La variable puede tomar cualquiera de los tipos de datos con los que se cuente en python.\n",
        "\n",
        "* Los nombres **NO** se pueden inicializar con un numero o un caracter especial."
      ],
      "metadata": {
        "id": "vQcact7M5-3j"
      }
    },
    {
      "cell_type": "code",
      "source": [
        "d_22 = \"Si\"\n",
        "d_22"
      ],
      "metadata": {
        "id": "sHxpKRFcyiJ1",
        "colab": {
          "base_uri": "https://localhost:8080/",
          "height": 35
        },
        "outputId": "1a69aa3d-9195-4fe2-ccfe-af29842dbe0d"
      },
      "execution_count": null,
      "outputs": [
        {
          "output_type": "execute_result",
          "data": {
            "text/plain": [
              "'Si'"
            ],
            "application/vnd.google.colaboratory.intrinsic+json": {
              "type": "string"
            }
          },
          "metadata": {},
          "execution_count": 38
        }
      ]
    },
    {
      "cell_type": "code",
      "source": [
        "d22 = \"SI\"\n",
        "d22"
      ],
      "metadata": {
        "id": "h2Ir-o_jxtZy",
        "colab": {
          "base_uri": "https://localhost:8080/",
          "height": 35
        },
        "outputId": "3b3c2000-b4b4-445f-f159-e28b233fac5b"
      },
      "execution_count": null,
      "outputs": [
        {
          "output_type": "execute_result",
          "data": {
            "text/plain": [
              "'SI'"
            ],
            "application/vnd.google.colaboratory.intrinsic+json": {
              "type": "string"
            }
          },
          "metadata": {},
          "execution_count": 39
        }
      ]
    },
    {
      "cell_type": "code",
      "source": [
        "\"Si\" == \"SI\""
      ],
      "metadata": {
        "colab": {
          "base_uri": "https://localhost:8080/"
        },
        "id": "rYbhcTGxn8iY",
        "outputId": "aadf6d86-adf9-4a41-d278-d9b67e20026c"
      },
      "execution_count": null,
      "outputs": [
        {
          "output_type": "execute_result",
          "data": {
            "text/plain": [
              "False"
            ]
          },
          "metadata": {},
          "execution_count": 44
        }
      ]
    },
    {
      "cell_type": "code",
      "source": [
        "d_22 == d22"
      ],
      "metadata": {
        "id": "BJrrWHXhU9YP",
        "colab": {
          "base_uri": "https://localhost:8080/"
        },
        "outputId": "a6817909-4dba-484c-ba48-4bad7f4eb465"
      },
      "execution_count": null,
      "outputs": [
        {
          "output_type": "execute_result",
          "data": {
            "text/plain": [
              "False"
            ]
          },
          "metadata": {},
          "execution_count": 43
        }
      ]
    },
    {
      "cell_type": "code",
      "source": [
        "d_22 = d22"
      ],
      "metadata": {
        "id": "DpKKDH_RVgNy"
      },
      "execution_count": null,
      "outputs": []
    },
    {
      "cell_type": "code",
      "source": [
        "d_22"
      ],
      "metadata": {
        "id": "aLKctn-hVjkk",
        "colab": {
          "base_uri": "https://localhost:8080/",
          "height": 35
        },
        "outputId": "dc531566-6ec1-48d9-9eb5-512aaae7349a"
      },
      "execution_count": null,
      "outputs": [
        {
          "output_type": "execute_result",
          "data": {
            "text/plain": [
              "'SI'"
            ],
            "application/vnd.google.colaboratory.intrinsic+json": {
              "type": "string"
            }
          },
          "metadata": {},
          "execution_count": 47
        }
      ]
    },
    {
      "cell_type": "code",
      "source": [
        "d22"
      ],
      "metadata": {
        "id": "snseKeD5VmuB",
        "colab": {
          "base_uri": "https://localhost:8080/",
          "height": 35
        },
        "outputId": "f70ef157-a7c6-45f9-f552-243140ed80e9"
      },
      "execution_count": null,
      "outputs": [
        {
          "output_type": "execute_result",
          "data": {
            "text/plain": [
              "'SI'"
            ],
            "application/vnd.google.colaboratory.intrinsic+json": {
              "type": "string"
            }
          },
          "metadata": {},
          "execution_count": 48
        }
      ]
    },
    {
      "cell_type": "code",
      "source": [
        "d_22 == d22"
      ],
      "metadata": {
        "id": "8FMZcoKIVos0",
        "colab": {
          "base_uri": "https://localhost:8080/"
        },
        "outputId": "8f3440c2-4ddd-42b0-9803-be8fb1e3e4c2"
      },
      "execution_count": null,
      "outputs": [
        {
          "output_type": "execute_result",
          "data": {
            "text/plain": [
              "True"
            ]
          },
          "metadata": {},
          "execution_count": 49
        }
      ]
    },
    {
      "cell_type": "code",
      "source": [
        "## Asignación de valor a una variable\n",
        "my_var = 88\n",
        "type(my_var)"
      ],
      "metadata": {
        "id": "JM-rI-Re7wf2",
        "colab": {
          "base_uri": "https://localhost:8080/"
        },
        "outputId": "9632d343-2deb-47e6-cdf2-b8fc2d9e844e"
      },
      "execution_count": null,
      "outputs": [
        {
          "output_type": "execute_result",
          "data": {
            "text/plain": [
              "int"
            ]
          },
          "metadata": {},
          "execution_count": 50
        }
      ]
    },
    {
      "cell_type": "code",
      "source": [
        "st = \"Suma\"\n",
        "type(st)"
      ],
      "metadata": {
        "id": "NFu7bilC8O2k",
        "colab": {
          "base_uri": "https://localhost:8080/"
        },
        "outputId": "96878415-f7f8-4cd7-92b3-8caaf52d3943"
      },
      "execution_count": null,
      "outputs": [
        {
          "output_type": "execute_result",
          "data": {
            "text/plain": [
              "str"
            ]
          },
          "metadata": {},
          "execution_count": 51
        }
      ]
    },
    {
      "cell_type": "code",
      "source": [
        "ss = \"22\"\n",
        "type(ss)"
      ],
      "metadata": {
        "id": "3jLYKA89YAWm",
        "colab": {
          "base_uri": "https://localhost:8080/"
        },
        "outputId": "761bdd79-37b7-4a9c-b15e-18abec32fb47"
      },
      "execution_count": null,
      "outputs": [
        {
          "output_type": "execute_result",
          "data": {
            "text/plain": [
              "str"
            ]
          },
          "metadata": {},
          "execution_count": 52
        }
      ]
    },
    {
      "cell_type": "code",
      "source": [
        "# Asignar valores a diferentes variables\n",
        "\n",
        "a = 6\n",
        "b = 4\n",
        "\n",
        "# Asignar la multiplicación de 2 variables\n",
        "c = a * b\n",
        "\n",
        "c\n"
      ],
      "metadata": {
        "id": "gLdaca-M83QS",
        "colab": {
          "base_uri": "https://localhost:8080/"
        },
        "outputId": "acb8891b-6aad-4876-c503-6639522728d2"
      },
      "execution_count": null,
      "outputs": [
        {
          "output_type": "execute_result",
          "data": {
            "text/plain": [
              "24"
            ]
          },
          "metadata": {},
          "execution_count": 53
        }
      ]
    },
    {
      "cell_type": "code",
      "source": [
        "a = 8\n",
        "a * b"
      ],
      "metadata": {
        "id": "mXW2hXe9IMeO",
        "colab": {
          "base_uri": "https://localhost:8080/"
        },
        "outputId": "fde445ef-9223-4237-e922-dc9e6e939ff7"
      },
      "execution_count": null,
      "outputs": [
        {
          "output_type": "execute_result",
          "data": {
            "text/plain": [
              "32"
            ]
          },
          "metadata": {},
          "execution_count": 54
        }
      ]
    },
    {
      "cell_type": "code",
      "source": [
        "type(c)"
      ],
      "metadata": {
        "id": "-p4-84Md99Rw",
        "colab": {
          "base_uri": "https://localhost:8080/"
        },
        "outputId": "3bc2ffbc-8339-47fd-ce16-0eb5a1eb190f"
      },
      "execution_count": null,
      "outputs": [
        {
          "output_type": "execute_result",
          "data": {
            "text/plain": [
              "int"
            ]
          },
          "metadata": {},
          "execution_count": 55
        }
      ]
    },
    {
      "cell_type": "code",
      "source": [
        "4.0 == 4"
      ],
      "metadata": {
        "colab": {
          "base_uri": "https://localhost:8080/"
        },
        "id": "6_O1NH--pr8X",
        "outputId": "18436b20-eb3e-4fff-d286-81fd9c7f5812"
      },
      "execution_count": null,
      "outputs": [
        {
          "output_type": "execute_result",
          "data": {
            "text/plain": [
              "True"
            ]
          },
          "metadata": {},
          "execution_count": 56
        }
      ]
    },
    {
      "cell_type": "markdown",
      "source": [
        "## Imprimir con formato"
      ],
      "metadata": {
        "id": "Ls81YzEH_PlF"
      }
    },
    {
      "cell_type": "code",
      "source": [
        "nombre = \"Juan\"\n",
        "edad = 25\n",
        "altura = 1.90\n",
        "es_estudiante = False"
      ],
      "metadata": {
        "id": "5MwWLAY8-_Pw"
      },
      "execution_count": null,
      "outputs": []
    },
    {
      "cell_type": "code",
      "source": [
        "print(f\"Nombre del estudiante: {nombre}\")\n",
        "print(f\"La edad de {nombre} es {edad} años\")\n",
        "print(f\"Mide: {altura}\")\n",
        "print(f\"Estado graduado: {es_estudiante}\")"
      ],
      "metadata": {
        "id": "Vsj_1JEc_Hzj",
        "colab": {
          "base_uri": "https://localhost:8080/"
        },
        "outputId": "7e288f52-bf99-45e6-d977-67d41bb9bd93"
      },
      "execution_count": null,
      "outputs": [
        {
          "output_type": "stream",
          "name": "stdout",
          "text": [
            "Nombre del estudiante: Juan\n",
            "La edad de Juan es 25 años\n",
            "Mide: 1.9\n",
            "Estado graduado: False\n"
          ]
        }
      ]
    },
    {
      "cell_type": "code",
      "source": [
        "print(f\"Nombre del estudiante: {nombre}\\nLa edad de {nombre} es {edad} años\\nMide: {altura}\\nEstado graduado: {es_estudiante}\")"
      ],
      "metadata": {
        "id": "Z635ZswBXUMo",
        "colab": {
          "base_uri": "https://localhost:8080/"
        },
        "outputId": "792a88cd-30b0-4c58-d90f-615f909bb252"
      },
      "execution_count": null,
      "outputs": [
        {
          "output_type": "stream",
          "name": "stdout",
          "text": [
            "Nombre del estudiante: Juan\n",
            "La edad de Juan es 25 años\n",
            "Mide: 1.9\n",
            "Estado graduado: False\n"
          ]
        }
      ]
    },
    {
      "cell_type": "code",
      "source": [
        "print(f\"Nombre del estudiante: {nombre}\\tLa edad de {nombre} es {edad * altura} años\\tMide: {altura}\\tEstado graduado: {es_estudiante}\")"
      ],
      "metadata": {
        "id": "RujjpBoxYEbm",
        "colab": {
          "base_uri": "https://localhost:8080/"
        },
        "outputId": "e332ec1f-b824-4f1e-ec66-c3f3c41e30d4"
      },
      "execution_count": null,
      "outputs": [
        {
          "output_type": "stream",
          "name": "stdout",
          "text": [
            "Nombre del estudiante: Juan\tLa edad de Juan es 47.5 años\tMide: 1.9\tEstado graduado: False\n"
          ]
        }
      ]
    },
    {
      "cell_type": "code",
      "source": [
        "print(\"nombre del estudiante: \"+nombre+\" y su edad es \"+str(edad))"
      ],
      "metadata": {
        "id": "pR31HuA5ZMcB",
        "colab": {
          "base_uri": "https://localhost:8080/"
        },
        "outputId": "fe5e8703-77c9-4e43-ef9e-713277b65670"
      },
      "execution_count": null,
      "outputs": [
        {
          "output_type": "stream",
          "name": "stdout",
          "text": [
            "nombre del estudiante: Juan y su edad es 25\n"
          ]
        }
      ]
    },
    {
      "cell_type": "code",
      "source": [
        "print(f\"El resultado de la multiplicación es: {c}\")"
      ],
      "metadata": {
        "id": "nAyAe_imzhDT",
        "colab": {
          "base_uri": "https://localhost:8080/"
        },
        "outputId": "116c9224-37f2-447a-be9c-1380a0527960"
      },
      "execution_count": null,
      "outputs": [
        {
          "output_type": "stream",
          "name": "stdout",
          "text": [
            "El resultado de la multiplicación es: 24\n"
          ]
        }
      ]
    },
    {
      "cell_type": "code",
      "source": [
        "d = print(\"si\")"
      ],
      "metadata": {
        "id": "ataShCwoZL7V",
        "colab": {
          "base_uri": "https://localhost:8080/"
        },
        "outputId": "ba82a36f-55fd-49fd-d027-77338921c80e"
      },
      "execution_count": null,
      "outputs": [
        {
          "output_type": "stream",
          "name": "stdout",
          "text": [
            "si\n"
          ]
        }
      ]
    },
    {
      "cell_type": "code",
      "source": [
        "print(d)"
      ],
      "metadata": {
        "id": "5bLiVdX8aNbn",
        "colab": {
          "base_uri": "https://localhost:8080/"
        },
        "outputId": "04a95bff-ab53-47e5-c3b4-125236235c23"
      },
      "execution_count": null,
      "outputs": [
        {
          "output_type": "stream",
          "name": "stdout",
          "text": [
            "None\n"
          ]
        }
      ]
    },
    {
      "cell_type": "markdown",
      "source": [
        "# Listas\n",
        "\n",
        "Son una de las principales estructuras para almacenamiento de información en Python.\n",
        "\n",
        "* Se pueden ingresar todo tipo de datos\n",
        "* Las listas son elementos mutables, es decir que se pueden cambiar sus valores\n",
        "* Se utilizan los corchetes [ ] para definir una lista y se separa usando coma"
      ],
      "metadata": {
        "id": "ei8rUWAJAE1Z"
      }
    },
    {
      "cell_type": "code",
      "source": [
        "[2,4,6,8]"
      ],
      "metadata": {
        "id": "8UWv2ymazke1",
        "colab": {
          "base_uri": "https://localhost:8080/"
        },
        "outputId": "983db8dd-c5d0-40b0-be55-50061a60fc14"
      },
      "execution_count": null,
      "outputs": [
        {
          "output_type": "execute_result",
          "data": {
            "text/plain": [
              "[2.4, 6, 8]"
            ]
          },
          "metadata": {},
          "execution_count": 72
        }
      ]
    },
    {
      "cell_type": "code",
      "source": [
        "# Definir lista\n",
        "my_list = [2,4,6,8]\n",
        "my_list"
      ],
      "metadata": {
        "id": "bZm5VvalAkAh",
        "colab": {
          "base_uri": "https://localhost:8080/"
        },
        "outputId": "1c601756-562f-410b-8ea9-5afbe67909f1"
      },
      "execution_count": null,
      "outputs": [
        {
          "output_type": "execute_result",
          "data": {
            "text/plain": [
              "[2, 4, 6, 8]"
            ]
          },
          "metadata": {},
          "execution_count": 70
        }
      ]
    },
    {
      "cell_type": "code",
      "source": [
        "type(my_list)"
      ],
      "metadata": {
        "id": "f6ySQ0lqAg8v",
        "colab": {
          "base_uri": "https://localhost:8080/"
        },
        "outputId": "0a700d44-3ed2-4b4e-a29d-370ca88e5f9f"
      },
      "execution_count": null,
      "outputs": [
        {
          "output_type": "execute_result",
          "data": {
            "text/plain": [
              "list"
            ]
          },
          "metadata": {},
          "execution_count": 82
        }
      ]
    },
    {
      "cell_type": "code",
      "source": [
        "lista = [1,3,5,'h','22',50,'estudiante',2.8,False]"
      ],
      "metadata": {
        "id": "ahD7AezfA4q2"
      },
      "execution_count": null,
      "outputs": []
    },
    {
      "cell_type": "code",
      "source": [
        "lista"
      ],
      "metadata": {
        "id": "Zp_Y9BUZz_i4",
        "colab": {
          "base_uri": "https://localhost:8080/"
        },
        "outputId": "f1688f8a-9210-4370-8cc5-d23f13b3a798"
      },
      "execution_count": null,
      "outputs": [
        {
          "output_type": "execute_result",
          "data": {
            "text/plain": [
              "[1, 3, 5, 'h', '22', 50, 'estudiante', 2.8, False]"
            ]
          },
          "metadata": {},
          "execution_count": 74
        }
      ]
    },
    {
      "cell_type": "code",
      "source": [
        "lista = [1,3,5,'h','22',50,'estudiante', 2.8, False,[2,67]]\n",
        "lista"
      ],
      "metadata": {
        "id": "HdpMrBRo0Cf7",
        "colab": {
          "base_uri": "https://localhost:8080/"
        },
        "outputId": "80690a17-3d86-442f-ade6-0dc98343034f"
      },
      "execution_count": null,
      "outputs": [
        {
          "output_type": "execute_result",
          "data": {
            "text/plain": [
              "[1, 3, 5, 'h', '22', 50, 'estudiante', 2.8, False, [2, 67]]"
            ]
          },
          "metadata": {},
          "execution_count": 76
        }
      ]
    },
    {
      "cell_type": "code",
      "source": [
        "len(lista)"
      ],
      "metadata": {
        "id": "-riIVy43Li5n",
        "colab": {
          "base_uri": "https://localhost:8080/"
        },
        "outputId": "81962d9e-fc33-42cf-a94b-087dab2dcf9a"
      },
      "execution_count": null,
      "outputs": [
        {
          "output_type": "execute_result",
          "data": {
            "text/plain": [
              "10"
            ]
          },
          "metadata": {},
          "execution_count": 77
        }
      ]
    },
    {
      "cell_type": "code",
      "source": [
        "lista[3]"
      ],
      "metadata": {
        "id": "wfXq0547L6Tn",
        "colab": {
          "base_uri": "https://localhost:8080/",
          "height": 35
        },
        "outputId": "24063f27-4580-4c65-cec9-e4913c88bd8a"
      },
      "execution_count": null,
      "outputs": [
        {
          "output_type": "execute_result",
          "data": {
            "text/plain": [
              "'h'"
            ],
            "application/vnd.google.colaboratory.intrinsic+json": {
              "type": "string"
            }
          },
          "metadata": {},
          "execution_count": 78
        }
      ]
    },
    {
      "cell_type": "code",
      "source": [
        "lista[-1]"
      ],
      "metadata": {
        "id": "Js-8FUud0O19",
        "colab": {
          "base_uri": "https://localhost:8080/"
        },
        "outputId": "e1d2e980-705e-4d3a-8229-b510bad39ac2"
      },
      "execution_count": null,
      "outputs": [
        {
          "output_type": "execute_result",
          "data": {
            "text/plain": [
              "[2, 67]"
            ]
          },
          "metadata": {},
          "execution_count": 79
        }
      ]
    },
    {
      "cell_type": "code",
      "source": [
        "lista[5]"
      ],
      "metadata": {
        "id": "2_1zZqhw0Tzd",
        "colab": {
          "base_uri": "https://localhost:8080/"
        },
        "outputId": "5317a5ad-2f2d-4ada-b932-b1c053dae857"
      },
      "execution_count": null,
      "outputs": [
        {
          "output_type": "execute_result",
          "data": {
            "text/plain": [
              "50"
            ]
          },
          "metadata": {},
          "execution_count": 80
        }
      ]
    },
    {
      "cell_type": "code",
      "source": [
        "## Ejemplo de tuplas\n",
        "tupla = (1,3,5,'h','22',50,'estudiante', 2.8, False,[2,67])\n",
        "tupla"
      ],
      "metadata": {
        "id": "FWy-EVzCMuyG"
      },
      "execution_count": null,
      "outputs": []
    },
    {
      "cell_type": "markdown",
      "source": [
        "# Condicional (if)\n",
        "\n",
        "Permite ejecutar un bucle de código si se cumple una condición.\n"
      ],
      "metadata": {
        "id": "ZBHjZgFgIm9s"
      }
    },
    {
      "cell_type": "code",
      "source": [
        "## Condicional\n",
        "\n",
        "edad = 10\n",
        "\n",
        "if edad >= 18:\n",
        "  print(f\"Eres mayor de edad, y tu edad es {edad} años\")"
      ],
      "metadata": {
        "id": "VI054gotItGn"
      },
      "execution_count": null,
      "outputs": []
    },
    {
      "cell_type": "code",
      "source": [
        "edad = 18\n",
        "if edad < 18:\n",
        "    print(f\"Eres menor de edad.Apenas tines {edad} años\")\n",
        "else:\n",
        "    print(\"Eres mayor de edad.Felicitaciones\")"
      ],
      "metadata": {
        "id": "iGmX9xHtI6IG",
        "colab": {
          "base_uri": "https://localhost:8080/"
        },
        "outputId": "6ae29ac1-926b-4f97-cf07-e7f3930b5287"
      },
      "execution_count": null,
      "outputs": [
        {
          "output_type": "stream",
          "name": "stdout",
          "text": [
            "Eres mayor de edad.Felicitaciones\n"
          ]
        }
      ]
    },
    {
      "cell_type": "code",
      "source": [
        "edad = 18\n",
        "if edad <= 18:\n",
        "  print(f\"Eres menor de edad.Apenas tines {edad} años\")\n",
        "elif edad>=18 :\n",
        "    print(\"Estas al limite\")\n"
      ],
      "metadata": {
        "colab": {
          "base_uri": "https://localhost:8080/"
        },
        "id": "pSc519NU1uid",
        "outputId": "4e1ead10-930f-40d2-8214-fd47dba224a7"
      },
      "execution_count": null,
      "outputs": [
        {
          "output_type": "stream",
          "name": "stdout",
          "text": [
            "Eres menor de edad.Apenas tines 18 años\n"
          ]
        }
      ]
    },
    {
      "cell_type": "code",
      "source": [
        "2 == \"si\""
      ],
      "metadata": {
        "id": "xtXz7dw5113L"
      },
      "execution_count": null,
      "outputs": []
    },
    {
      "cell_type": "markdown",
      "source": [
        "# Ciclo for (loop)\n",
        "\n",
        "Repite un bloque de código un número determinado de veces o a través de los elementos de una colección."
      ],
      "metadata": {
        "id": "2LcdvNFzJEHv"
      }
    },
    {
      "cell_type": "code",
      "source": [
        "rango = range(1,201)"
      ],
      "metadata": {
        "id": "I3sJbLiWkixg"
      },
      "execution_count": null,
      "outputs": []
    },
    {
      "cell_type": "code",
      "source": [
        "rango"
      ],
      "metadata": {
        "colab": {
          "base_uri": "https://localhost:8080/"
        },
        "id": "wQx2DnPqmJpO",
        "outputId": "6e0ee612-2c66-43a1-d3f8-14c060b123fb"
      },
      "execution_count": null,
      "outputs": [
        {
          "output_type": "execute_result",
          "data": {
            "text/plain": [
              "range(1, 201)"
            ]
          },
          "metadata": {},
          "execution_count": 94
        }
      ]
    },
    {
      "cell_type": "code",
      "source": [
        "my_list = [1,2,3,4,5]"
      ],
      "metadata": {
        "id": "4PNpXEbnlc6s"
      },
      "execution_count": null,
      "outputs": []
    },
    {
      "cell_type": "code",
      "source": [
        "## Ciclo for\n",
        "for i in my_list:\n",
        "  print(i)\n",
        "\n",
        "# Muestra en consola: 0, 1, 2, 3, 4"
      ],
      "metadata": {
        "id": "8tRKDi0TJwAc",
        "colab": {
          "base_uri": "https://localhost:8080/"
        },
        "outputId": "94ba915a-5720-4cc7-a2c3-4a99b7d316e8"
      },
      "execution_count": null,
      "outputs": [
        {
          "output_type": "stream",
          "name": "stdout",
          "text": [
            "1\n",
            "2\n",
            "3\n",
            "4\n",
            "5\n"
          ]
        }
      ]
    },
    {
      "cell_type": "code",
      "source": [
        "frutas = [\"manzana\", \"banana\", \"cereza\"]\n",
        "frutas"
      ],
      "metadata": {
        "colab": {
          "base_uri": "https://localhost:8080/"
        },
        "id": "LZUCBpUzls8t",
        "outputId": "c37161c6-926b-455a-9077-1c1edf073f49"
      },
      "execution_count": null,
      "outputs": [
        {
          "output_type": "execute_result",
          "data": {
            "text/plain": [
              "['manzana', 'banana', 'cereza']"
            ]
          },
          "metadata": {},
          "execution_count": 101
        }
      ]
    },
    {
      "cell_type": "code",
      "source": [
        "frutas[0]"
      ],
      "metadata": {
        "colab": {
          "base_uri": "https://localhost:8080/",
          "height": 35
        },
        "id": "4xwM89yFnH-S",
        "outputId": "5dd16f5f-254e-4c12-a551-b47af122eea9"
      },
      "execution_count": null,
      "outputs": [
        {
          "output_type": "execute_result",
          "data": {
            "text/plain": [
              "'manzana'"
            ],
            "application/vnd.google.colaboratory.intrinsic+json": {
              "type": "string"
            }
          },
          "metadata": {},
          "execution_count": 102
        }
      ]
    },
    {
      "cell_type": "code",
      "source": [
        "len(frutas)"
      ],
      "metadata": {
        "colab": {
          "base_uri": "https://localhost:8080/"
        },
        "id": "1PmaWaCynAUi",
        "outputId": "9efb0c4d-00ae-4bb2-9996-31d4660f799e"
      },
      "execution_count": null,
      "outputs": [
        {
          "output_type": "execute_result",
          "data": {
            "text/plain": [
              "3"
            ]
          },
          "metadata": {},
          "execution_count": 103
        }
      ]
    },
    {
      "cell_type": "code",
      "source": [
        "type(frutas)"
      ],
      "metadata": {
        "colab": {
          "base_uri": "https://localhost:8080/"
        },
        "id": "x_bV0GxzlzGD",
        "outputId": "1beee262-c2a8-4569-ca01-27ad89945e9e"
      },
      "execution_count": null,
      "outputs": [
        {
          "output_type": "execute_result",
          "data": {
            "text/plain": [
              "list"
            ]
          },
          "metadata": {},
          "execution_count": 104
        }
      ]
    },
    {
      "cell_type": "code",
      "source": [
        "#frutas = [\"manzana\", \"banana\", \"cereza\"]\n",
        "for fruta in frutas:\n",
        "  print(fruta)"
      ],
      "metadata": {
        "id": "1FZdzgJrJ4_9",
        "outputId": "14ed2405-0d8f-4486-f791-e625ed95a864",
        "colab": {
          "base_uri": "https://localhost:8080/"
        }
      },
      "execution_count": null,
      "outputs": [
        {
          "output_type": "stream",
          "name": "stdout",
          "text": [
            "manzana\n",
            "banana\n",
            "cereza\n"
          ]
        }
      ]
    },
    {
      "cell_type": "code",
      "source": [
        "for fruta in frutas:\n",
        "    if fruta == 'manzana':\n",
        "      print(fruta)\n",
        "    else:\n",
        "      print(f\"{fruta} , no es la fruta que me gusta \")"
      ],
      "metadata": {
        "colab": {
          "base_uri": "https://localhost:8080/"
        },
        "id": "xsqfOL0NmIn6",
        "outputId": "cd1bf00d-49c4-494c-d0b8-afc02d0c4ff6"
      },
      "execution_count": null,
      "outputs": [
        {
          "output_type": "stream",
          "name": "stdout",
          "text": [
            "manzana\n",
            "banana , no es la fruta que me gusta \n",
            "cereza , no es la fruta que me gusta \n"
          ]
        }
      ]
    },
    {
      "cell_type": "code",
      "source": [
        "len(frutas)"
      ],
      "metadata": {
        "colab": {
          "base_uri": "https://localhost:8080/"
        },
        "id": "alV2TwdLo-Xq",
        "outputId": "e2786c6e-a44f-4812-a73c-228df102a05a"
      },
      "execution_count": null,
      "outputs": [
        {
          "output_type": "execute_result",
          "data": {
            "text/plain": [
              "3"
            ]
          },
          "metadata": {},
          "execution_count": 107
        }
      ]
    },
    {
      "cell_type": "code",
      "source": [
        "for i in range(len(frutas)):\n",
        "    print(i, \":\", frutas[i])"
      ],
      "metadata": {
        "id": "fGKxVYE2ng8h",
        "colab": {
          "base_uri": "https://localhost:8080/"
        },
        "outputId": "6547220a-06cd-449b-e4de-6c063c05df31"
      },
      "execution_count": null,
      "outputs": [
        {
          "output_type": "stream",
          "name": "stdout",
          "text": [
            "0 : manzana\n",
            "1 : banana\n",
            "2 : cereza\n"
          ]
        }
      ]
    },
    {
      "cell_type": "code",
      "source": [
        "for i in range(5):\n",
        "  print(i)"
      ],
      "metadata": {
        "id": "AxUs23EHopV_",
        "colab": {
          "base_uri": "https://localhost:8080/"
        },
        "outputId": "126a56bf-8bbc-4beb-c4dd-ce0a0128576d"
      },
      "execution_count": null,
      "outputs": [
        {
          "output_type": "stream",
          "name": "stdout",
          "text": [
            "0\n",
            "1\n",
            "2\n",
            "3\n",
            "4\n"
          ]
        }
      ]
    },
    {
      "cell_type": "code",
      "source": [
        "numeros = [0,3,1,4,6,17,3,89,5,6,4,13,25,4,3,23,1,15,2]\n",
        "seleccionados = []\n",
        "for numero in numeros:\n",
        "    if numero >= 5 and numero < 20:\n",
        "        seleccionados.append(numero)\n",
        "#print(seleccionados)"
      ],
      "metadata": {
        "id": "0fYJhBDcpSBv"
      },
      "execution_count": null,
      "outputs": []
    },
    {
      "cell_type": "code",
      "source": [
        "len(seleccionados)"
      ],
      "metadata": {
        "id": "m6zA7RpDpsVO",
        "colab": {
          "base_uri": "https://localhost:8080/"
        },
        "outputId": "51a34d5b-3dc6-4d46-aefc-13b3a299a02d"
      },
      "execution_count": null,
      "outputs": [
        {
          "output_type": "execute_result",
          "data": {
            "text/plain": [
              "6"
            ]
          },
          "metadata": {},
          "execution_count": 111
        }
      ]
    },
    {
      "cell_type": "code",
      "source": [
        "seleccionados"
      ],
      "metadata": {
        "id": "3Gk-auREXLL9",
        "colab": {
          "base_uri": "https://localhost:8080/"
        },
        "outputId": "03dafa8a-1781-435c-ebf0-33aca193efff"
      },
      "execution_count": null,
      "outputs": [
        {
          "output_type": "execute_result",
          "data": {
            "text/plain": [
              "[6, 17, 5, 6, 13, 15]"
            ]
          },
          "metadata": {},
          "execution_count": 112
        }
      ]
    },
    {
      "cell_type": "code",
      "source": [
        "contador = 0\n",
        "while contador < 5:\n",
        "    print(contador)\n",
        "    contador += 1"
      ],
      "metadata": {
        "id": "JokaxWjQYMju",
        "colab": {
          "base_uri": "https://localhost:8080/"
        },
        "outputId": "950ef973-d4bd-4cd7-e56c-7502bd2d1018"
      },
      "execution_count": null,
      "outputs": [
        {
          "output_type": "stream",
          "name": "stdout",
          "text": [
            "0\n",
            "1\n",
            "2\n",
            "3\n",
            "4\n"
          ]
        }
      ]
    },
    {
      "cell_type": "code",
      "source": [
        "range(5)"
      ],
      "metadata": {
        "id": "LtoqIeIhYz-N"
      },
      "execution_count": null,
      "outputs": []
    }
  ]
}